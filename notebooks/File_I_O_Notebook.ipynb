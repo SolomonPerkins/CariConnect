{
  "cells": [
    {
      "cell_type": "code",
      "execution_count": 1,
      "metadata": {
        "id": "XK3GoGGd3Odv"
      },
      "outputs": [],
      "source": [
        "import os"
      ]
    },
    {
      "cell_type": "code",
      "execution_count": 2,
      "metadata": {
        "colab": {
          "base_uri": "https://localhost:8080/"
        },
        "id": "lMzTdporyobI",
        "outputId": "3c3ab357-9c0a-4dcc-a992-93b8e17da702"
      },
      "outputs": [
        {
          "output_type": "stream",
          "name": "stdout",
          "text": [
            "Drive already mounted at /content/drive; to attempt to forcibly remount, call drive.mount(\"/content/drive\", force_remount=True).\n"
          ]
        }
      ],
      "source": [
        "from google.colab import drive\n",
        "drive.mount('/content/drive')\n",
        "from google.colab import files"
      ]
    },
    {
      "cell_type": "code",
      "execution_count": 3,
      "metadata": {
        "id": "pgDsEt0xytKu"
      },
      "outputs": [],
      "source": [
        "import pandas as pd\n",
        "import numpy as np"
      ]
    },
    {
      "cell_type": "code",
      "source": [
        "from google.colab import drive\n",
        "drive.mount('/content/drive')"
      ],
      "metadata": {
        "colab": {
          "base_uri": "https://localhost:8080/"
        },
        "id": "ejxj91gft814",
        "outputId": "d0c85361-dfa0-41ef-a692-b41253e6a698"
      },
      "execution_count": 4,
      "outputs": [
        {
          "output_type": "stream",
          "name": "stdout",
          "text": [
            "Drive already mounted at /content/drive; to attempt to forcibly remount, call drive.mount(\"/content/drive\", force_remount=True).\n"
          ]
        }
      ]
    },
    {
      "cell_type": "code",
      "source": [
        "tfidf = np.load('/content/drive/MyDrive/BTT CARI-CONNECT /BTT Colabs/models/tfidf_vectorizer.pkl', allow_pickle=True)\n",
        "max_scaler = np.load('/content/drive/MyDrive/BTT CARI-CONNECT /BTT Colabs/models/maxabs_scaler.pkl', allow_pickle=True)\n",
        "svd = np.load('/content/drive/MyDrive/BTT CARI-CONNECT /BTT Colabs/models/svd_model.pkl', allow_pickle=True)\n",
        "cmodel = np.load('/content/drive/MyDrive/BTT CARI-CONNECT /BTT Colabs/models/birch_model.pkl', allow_pickle=True)\n",
        "df_match = pd.read_csv('/content/drive/MyDrive/BTT CARI-CONNECT /BTT Colabs/data/df_matching.csv', index_col = 'Unnamed: 0')\n",
        "df_reduced = pd.read_csv('/content/drive/MyDrive/BTT CARI-CONNECT /BTT Colabs/data/df_reduced.csv', index_col = 'Unnamed: 0')"
      ],
      "metadata": {
        "id": "kkgr3T92uJJU"
      },
      "execution_count": 5,
      "outputs": []
    },
    {
      "cell_type": "code",
      "source": [
        "# Text Preprocessing\n",
        "import string\n",
        "import re\n",
        "import nltk\n",
        "from nltk.corpus import stopwords\n",
        "from nltk.tokenize import word_tokenize\n",
        "nltk.download('punkt')\n",
        "nltk.download('punkt_tab')\n",
        "nltk.download('stopwords')\n",
        "nltk.download('wordnet')\n",
        "from nltk.stem.snowball import SnowballStemmer\n",
        "stemmer = SnowballStemmer(\"english\")\n",
        "import sys\n",
        "!{sys.executable} -m pip install contractions\n",
        "import contractions\n",
        "def preprocess(s):\n",
        "    s=str(s)\n",
        "    s = s.lower() # lowercase\n",
        "    s = contractions.fix(s) # expand contractions\n",
        "    s = re.sub(r'\\\\n', ' ', s) # remove \\n\n",
        "    s = re.sub(r'http\\S+', '', s) # remove url\n",
        "    s = re.sub(r'<.*?>', '', s) # remove html\n",
        "    s = re.sub(r'\\d+', '', s) # remove numbers\n",
        "    s = re.sub(r'[^\\w\\s]', ' ', s) # remove punctuation and special characters\n",
        "    s = word_tokenize(s) # tokenize\n",
        "    s = [w for w in s if w not in set(stopwords.words('english'))] # stop words\n",
        "    s = [stemmer.stem(w) for w in s] # stemming\n",
        "    return \" \".join(s) # white spaces\n",
        "def preprocess_transform(s):\n",
        "  preprocessed = preprocess(s)\n",
        "  transformed = tfidf.transform([preprocessed]).toarray()\n",
        "  return transformed"
      ],
      "metadata": {
        "colab": {
          "base_uri": "https://localhost:8080/"
        },
        "id": "nqK5I_an7BuO",
        "outputId": "183b3ef1-6f12-4551-8868-da1ec159ea6a"
      },
      "execution_count": 6,
      "outputs": [
        {
          "output_type": "stream",
          "name": "stderr",
          "text": [
            "[nltk_data] Downloading package punkt to /root/nltk_data...\n",
            "[nltk_data]   Package punkt is already up-to-date!\n",
            "[nltk_data] Downloading package punkt_tab to /root/nltk_data...\n",
            "[nltk_data]   Package punkt_tab is already up-to-date!\n",
            "[nltk_data] Downloading package stopwords to /root/nltk_data...\n",
            "[nltk_data]   Package stopwords is already up-to-date!\n",
            "[nltk_data] Downloading package wordnet to /root/nltk_data...\n",
            "[nltk_data]   Package wordnet is already up-to-date!\n"
          ]
        },
        {
          "output_type": "stream",
          "name": "stdout",
          "text": [
            "Requirement already satisfied: contractions in /usr/local/lib/python3.10/dist-packages (0.1.73)\n",
            "Requirement already satisfied: textsearch>=0.0.21 in /usr/local/lib/python3.10/dist-packages (from contractions) (0.0.24)\n",
            "Requirement already satisfied: anyascii in /usr/local/lib/python3.10/dist-packages (from textsearch>=0.0.21->contractions) (0.3.2)\n",
            "Requirement already satisfied: pyahocorasick in /usr/local/lib/python3.10/dist-packages (from textsearch>=0.0.21->contractions) (2.1.0)\n"
          ]
        }
      ]
    },
    {
      "cell_type": "code",
      "source": [
        "!pip install langdetect\n",
        "!pip install deep_translator\n",
        "from langdetect import detect, DetectorFactory\n",
        "from langdetect.lang_detect_exception import LangDetectException\n",
        "from deep_translator import GoogleTranslator\n",
        "\n",
        "DetectorFactory.seed = 0\n",
        "\n",
        "# Input language determinate\n",
        "class LanguageDetector:\n",
        "    def __init__(self, text=\"\"):\n",
        "        self.text = text\n",
        "\n",
        "    def set_text(self, text):\n",
        "        self.text = text\n",
        "\n",
        "    def detect_language(self):\n",
        "        try:\n",
        "            language_code = detect(self.text)\n",
        "            return language_code\n",
        "        except LangDetectException:\n",
        "            language_code = \"en\"\n",
        "            return language_code\n",
        "def translate_to_english(text):\n",
        "    try:\n",
        "        translated = GoogleTranslator(source='auto', target='en').translate(text)\n",
        "        return translated\n",
        "    except:\n",
        "        return text\n",
        "detector = LanguageDetector()"
      ],
      "metadata": {
        "colab": {
          "base_uri": "https://localhost:8080/"
        },
        "id": "eG0xRMy-thhm",
        "outputId": "1351384e-1ac6-43b7-e7af-859aeda8cd09"
      },
      "execution_count": 7,
      "outputs": [
        {
          "output_type": "stream",
          "name": "stdout",
          "text": [
            "Requirement already satisfied: langdetect in /usr/local/lib/python3.10/dist-packages (1.0.9)\n",
            "Requirement already satisfied: six in /usr/local/lib/python3.10/dist-packages (from langdetect) (1.16.0)\n",
            "Requirement already satisfied: deep_translator in /usr/local/lib/python3.10/dist-packages (1.11.4)\n",
            "Requirement already satisfied: beautifulsoup4<5.0.0,>=4.9.1 in /usr/local/lib/python3.10/dist-packages (from deep_translator) (4.12.3)\n",
            "Requirement already satisfied: requests<3.0.0,>=2.23.0 in /usr/local/lib/python3.10/dist-packages (from deep_translator) (2.32.3)\n",
            "Requirement already satisfied: soupsieve>1.2 in /usr/local/lib/python3.10/dist-packages (from beautifulsoup4<5.0.0,>=4.9.1->deep_translator) (2.6)\n",
            "Requirement already satisfied: charset-normalizer<4,>=2 in /usr/local/lib/python3.10/dist-packages (from requests<3.0.0,>=2.23.0->deep_translator) (3.4.0)\n",
            "Requirement already satisfied: idna<4,>=2.5 in /usr/local/lib/python3.10/dist-packages (from requests<3.0.0,>=2.23.0->deep_translator) (3.10)\n",
            "Requirement already satisfied: urllib3<3,>=1.21.1 in /usr/local/lib/python3.10/dist-packages (from requests<3.0.0,>=2.23.0->deep_translator) (2.2.3)\n",
            "Requirement already satisfied: certifi>=2017.4.17 in /usr/local/lib/python3.10/dist-packages (from requests<3.0.0,>=2.23.0->deep_translator) (2024.8.30)\n"
          ]
        }
      ]
    },
    {
      "cell_type": "code",
      "source": [
        "# column weights\n",
        "title_weight=.05\n",
        "subject_weight=.8\n",
        "synopsis_weight=.15"
      ],
      "metadata": {
        "id": "WmUQ8NaT7Gmf"
      },
      "execution_count": 8,
      "outputs": []
    },
    {
      "cell_type": "code",
      "execution_count": 9,
      "metadata": {
        "id": "3TJPdWKIROGp"
      },
      "outputs": [],
      "source": [
        "# Clean and vectorize input\n",
        "title_input = \"Anansi\"\n",
        "subject_input = \"Akan Folklore\"\n",
        "synopsis_input = \"Anansi or Ananse (/əˈnɑːnsi/ ə-NAHN-see; literally translates to spider) is an Akan folktale character associated with stories, wisdom, knowledge, and trickery, most commonly depicted as a spider, in Akan folklore.[1] Taking the role of a trickster, he is also one of the most important characters of West African, African American and West Indian folklore. Originating in Ghana, these spider tales were transmitted to the Caribbean by way of the transatlantic slave trade.[2]  Anansi is best known for his ability to outsmart and triumph over more powerful opponents through his use of cunning, creativity and wit.[3] Despite taking on a trickster role, Anansi often takes centre stage in stories and is commonly portrayed as both the protagonist and antagonist.\"\n",
        "detector.set_text(synopsis_input)\n",
        "detect_input = detector.detect_language()\n",
        "synopsis_input = translate_to_english(synopsis_input)\n",
        "lang_input = detect_input # detect language, or selected language"
      ]
    },
    {
      "cell_type": "code",
      "execution_count": 10,
      "metadata": {
        "id": "KidKqkHgng4f"
      },
      "outputs": [],
      "source": [
        "clean_title_input = title_weight*preprocess_transform(title_input)\n",
        "clean_subject_input = subject_weight*preprocess_transform(subject_input)\n",
        "clean_synopsis_input = synopsis_weight*preprocess_transform(synopsis_input)\n",
        "input_df = pd.DataFrame(np.concatenate([clean_title_input, clean_subject_input, clean_synopsis_input], axis=1))"
      ]
    },
    {
      "cell_type": "code",
      "execution_count": 11,
      "metadata": {
        "colab": {
          "base_uri": "https://localhost:8080/"
        },
        "id": "xE4EujVH4zlb",
        "outputId": "3cd4edf0-6ac3-4c0f-f377-f76a0c4fea61"
      },
      "outputs": [
        {
          "output_type": "stream",
          "name": "stderr",
          "text": [
            "/usr/local/lib/python3.10/dist-packages/sklearn/base.py:493: UserWarning: X does not have valid feature names, but MaxAbsScaler was fitted with feature names\n",
            "  warnings.warn(\n"
          ]
        }
      ],
      "source": [
        "# scale input\n",
        "input_df = max_scaler.transform(input_df)"
      ]
    },
    {
      "cell_type": "code",
      "execution_count": 12,
      "metadata": {
        "colab": {
          "base_uri": "https://localhost:8080/"
        },
        "id": "cU7wdQvIndOu",
        "outputId": "50f9596f-b381-4ab0-b3c1-4497924af325"
      },
      "outputs": [
        {
          "output_type": "stream",
          "name": "stderr",
          "text": [
            "/usr/local/lib/python3.10/dist-packages/sklearn/base.py:493: UserWarning: X does not have valid feature names, but TruncatedSVD was fitted with feature names\n",
            "  warnings.warn(\n"
          ]
        }
      ],
      "source": [
        "# reduce dimensions of input\n",
        "svd_input = svd.transform(input_df)"
      ]
    },
    {
      "cell_type": "code",
      "execution_count": 13,
      "metadata": {
        "id": "-87K3eYx2V45"
      },
      "outputs": [],
      "source": [
        "red_input = svd_input"
      ]
    },
    {
      "cell_type": "code",
      "execution_count": 14,
      "metadata": {
        "id": "d3SiRRF1oIgM"
      },
      "outputs": [],
      "source": [
        "# predict test input\n",
        "input_pred = cmodel.predict(red_input)[0]"
      ]
    },
    {
      "cell_type": "code",
      "execution_count": 15,
      "metadata": {
        "id": "plx3By6aXHvP"
      },
      "outputs": [],
      "source": [
        "# vector subset where label matches\n",
        "subset = df_match[df_match['label'] == input_pred]"
      ]
    },
    {
      "cell_type": "code",
      "execution_count": 16,
      "metadata": {
        "id": "GR7KzyCSoR7t"
      },
      "outputs": [],
      "source": [
        "# get subset\n",
        "sim_df = df_reduced.copy()\n",
        "sim_subset = sim_df.loc[subset.index]"
      ]
    },
    {
      "cell_type": "code",
      "execution_count": 17,
      "metadata": {
        "id": "vXY5SWk4ebds",
        "colab": {
          "base_uri": "https://localhost:8080/"
        },
        "collapsed": true,
        "outputId": "9527f3d1-3106-4ccd-8204-1e1c007bcece"
      },
      "outputs": [
        {
          "output_type": "execute_result",
          "data": {
            "text/plain": [
              "array([[0.45674392],\n",
              "       [0.46822016],\n",
              "       [0.67631379],\n",
              "       [0.52412832],\n",
              "       [0.50367231],\n",
              "       [0.31333569],\n",
              "       [0.22510147],\n",
              "       [0.31211111],\n",
              "       [0.53825146],\n",
              "       [0.44198038],\n",
              "       [0.69648897],\n",
              "       [0.0907768 ],\n",
              "       [0.19630366],\n",
              "       [0.52673414],\n",
              "       [0.54851469],\n",
              "       [0.47810201],\n",
              "       [0.47215413],\n",
              "       [0.14705573],\n",
              "       [0.2514256 ],\n",
              "       [0.18340826],\n",
              "       [0.64308556],\n",
              "       [0.24989326],\n",
              "       [0.34956625],\n",
              "       [0.465373  ],\n",
              "       [0.59439651],\n",
              "       [0.39483388],\n",
              "       [0.5343515 ],\n",
              "       [0.40367092],\n",
              "       [0.10222779],\n",
              "       [0.1178229 ],\n",
              "       [0.13676142],\n",
              "       [0.21456368],\n",
              "       [0.34082982],\n",
              "       [0.5993023 ],\n",
              "       [0.6718296 ],\n",
              "       [0.68187432],\n",
              "       [0.56187598],\n",
              "       [0.56138063],\n",
              "       [0.27744764],\n",
              "       [0.39850816],\n",
              "       [0.12332258],\n",
              "       [0.20478356],\n",
              "       [0.38998698],\n",
              "       [0.52297865],\n",
              "       [0.08270452],\n",
              "       [0.13157323],\n",
              "       [0.85579493],\n",
              "       [0.62462958],\n",
              "       [0.565286  ],\n",
              "       [0.43282958],\n",
              "       [0.59190495],\n",
              "       [0.40108738],\n",
              "       [0.62537635],\n",
              "       [0.16270099],\n",
              "       [0.54686011],\n",
              "       [0.49317249],\n",
              "       [0.72140413],\n",
              "       [0.440295  ],\n",
              "       [0.12699467],\n",
              "       [0.13277296],\n",
              "       [0.10050618],\n",
              "       [0.44998975],\n",
              "       [0.4255748 ],\n",
              "       [0.56664922],\n",
              "       [0.14929892],\n",
              "       [0.75455356],\n",
              "       [0.59182963],\n",
              "       [0.18540681],\n",
              "       [0.72916942],\n",
              "       [0.86713681],\n",
              "       [0.69067036],\n",
              "       [0.54585667],\n",
              "       [0.65349661],\n",
              "       [0.73846501],\n",
              "       [0.23345449],\n",
              "       [0.0755074 ],\n",
              "       [0.85813425],\n",
              "       [0.35707236],\n",
              "       [0.15690521],\n",
              "       [0.3352268 ],\n",
              "       [0.29712575],\n",
              "       [0.23768025],\n",
              "       [0.12943336],\n",
              "       [0.60858658],\n",
              "       [0.66447745],\n",
              "       [0.04980659],\n",
              "       [0.40303631],\n",
              "       [0.4255571 ],\n",
              "       [0.46197312],\n",
              "       [0.16474423],\n",
              "       [0.70219438],\n",
              "       [0.58127948],\n",
              "       [0.13705121],\n",
              "       [0.15206976],\n",
              "       [0.3715317 ],\n",
              "       [0.85226364],\n",
              "       [0.62407766],\n",
              "       [0.56323111],\n",
              "       [0.13919125],\n",
              "       [0.41951931],\n",
              "       [0.59194199],\n",
              "       [0.63387075],\n",
              "       [0.21699898],\n",
              "       [0.62061846],\n",
              "       [0.54728649],\n",
              "       [0.44526718],\n",
              "       [0.40447731],\n",
              "       [0.52467839],\n",
              "       [0.57987811],\n",
              "       [0.45992634],\n",
              "       [0.47182882],\n",
              "       [0.12509236],\n",
              "       [0.47865743],\n",
              "       [0.50430749],\n",
              "       [0.37427855],\n",
              "       [0.19278497],\n",
              "       [0.58675945],\n",
              "       [0.11957979],\n",
              "       [0.11587912],\n",
              "       [0.55213134],\n",
              "       [0.58168419],\n",
              "       [0.5408999 ],\n",
              "       [0.62122404],\n",
              "       [0.2708528 ],\n",
              "       [0.49753463],\n",
              "       [0.51659061],\n",
              "       [0.60547689],\n",
              "       [0.19650436],\n",
              "       [0.26992766],\n",
              "       [0.4946585 ],\n",
              "       [0.4765069 ],\n",
              "       [0.33331958],\n",
              "       [0.46926398],\n",
              "       [0.30686356],\n",
              "       [0.13212382],\n",
              "       [0.0965581 ],\n",
              "       [0.16964595],\n",
              "       [0.55838936],\n",
              "       [0.27194993],\n",
              "       [0.63864264],\n",
              "       [0.41150229],\n",
              "       [0.56817098],\n",
              "       [0.47921298],\n",
              "       [0.36720305],\n",
              "       [0.28233179],\n",
              "       [0.76942959],\n",
              "       [0.72161157],\n",
              "       [0.44834077],\n",
              "       [0.71973625],\n",
              "       [0.36608615],\n",
              "       [0.39184208],\n",
              "       [0.6517052 ],\n",
              "       [0.29700441],\n",
              "       [0.47631474],\n",
              "       [0.49659019],\n",
              "       [0.24642746],\n",
              "       [0.02580803],\n",
              "       [0.50251709],\n",
              "       [0.72553021],\n",
              "       [0.30374622],\n",
              "       [0.82238618],\n",
              "       [0.51349573],\n",
              "       [0.63593314],\n",
              "       [0.37944127],\n",
              "       [0.69226442],\n",
              "       [0.32294882],\n",
              "       [0.36501823],\n",
              "       [0.33482342],\n",
              "       [0.64374835],\n",
              "       [0.63756303],\n",
              "       [0.46607441],\n",
              "       [0.55336652],\n",
              "       [0.26994502],\n",
              "       [0.54791945],\n",
              "       [0.63276872],\n",
              "       [0.44440291],\n",
              "       [0.06015058],\n",
              "       [0.26726655],\n",
              "       [0.5840242 ],\n",
              "       [0.48911847],\n",
              "       [0.30537535],\n",
              "       [0.62484158],\n",
              "       [0.68727231],\n",
              "       [0.60939322],\n",
              "       [0.49160808],\n",
              "       [0.48230233],\n",
              "       [0.25706663],\n",
              "       [0.56206694],\n",
              "       [0.54962525],\n",
              "       [0.68586182],\n",
              "       [0.75307446],\n",
              "       [0.8393132 ],\n",
              "       [0.34632323],\n",
              "       [0.60546653],\n",
              "       [0.59106714],\n",
              "       [0.26482589],\n",
              "       [0.58424757],\n",
              "       [0.71110426],\n",
              "       [0.50073763],\n",
              "       [0.58870583],\n",
              "       [0.30494693],\n",
              "       [0.42911624],\n",
              "       [0.7807186 ],\n",
              "       [0.38441158],\n",
              "       [0.67252524],\n",
              "       [0.40326128],\n",
              "       [0.32291491],\n",
              "       [0.58106018],\n",
              "       [0.73475499],\n",
              "       [0.64373166],\n",
              "       [0.74765421],\n",
              "       [0.18422586],\n",
              "       [0.55217303],\n",
              "       [0.60646834],\n",
              "       [0.55342303],\n",
              "       [0.22430908],\n",
              "       [0.66338271],\n",
              "       [0.61727223],\n",
              "       [0.62794093],\n",
              "       [0.40110342],\n",
              "       [0.54367711],\n",
              "       [0.70008945],\n",
              "       [0.28095075],\n",
              "       [0.48900364],\n",
              "       [0.21371877],\n",
              "       [0.14325328],\n",
              "       [0.28694423],\n",
              "       [0.42653007],\n",
              "       [0.38074131],\n",
              "       [0.34123976],\n",
              "       [0.68687989],\n",
              "       [0.44420576],\n",
              "       [0.68195554],\n",
              "       [0.2867651 ],\n",
              "       [0.51692302],\n",
              "       [0.61426836],\n",
              "       [0.01842272],\n",
              "       [0.64773369],\n",
              "       [0.55629002],\n",
              "       [0.34397148],\n",
              "       [0.40918252],\n",
              "       [0.06345223],\n",
              "       [0.55951472],\n",
              "       [0.32887409],\n",
              "       [0.49110439],\n",
              "       [0.40470524],\n",
              "       [0.59905596],\n",
              "       [0.41330813],\n",
              "       [0.57658892],\n",
              "       [0.47304813],\n",
              "       [0.63925018],\n",
              "       [0.13085138],\n",
              "       [0.75012228],\n",
              "       [0.12736209],\n",
              "       [0.27292312],\n",
              "       [0.34261449],\n",
              "       [0.49802519],\n",
              "       [0.72164952],\n",
              "       [0.79581274],\n",
              "       [0.59944639],\n",
              "       [0.42174394],\n",
              "       [0.48984274],\n",
              "       [0.22006074],\n",
              "       [0.28997586],\n",
              "       [0.71193637],\n",
              "       [0.63272273],\n",
              "       [0.47977555],\n",
              "       [0.26746638],\n",
              "       [0.80705574],\n",
              "       [0.57876088],\n",
              "       [0.63699771],\n",
              "       [0.56320329],\n",
              "       [0.7273702 ],\n",
              "       [0.44405832],\n",
              "       [0.57910133],\n",
              "       [0.48553726],\n",
              "       [0.31883254],\n",
              "       [0.35663548],\n",
              "       [0.5941568 ],\n",
              "       [0.78356732],\n",
              "       [0.14523503],\n",
              "       [0.58469272],\n",
              "       [0.5260931 ],\n",
              "       [0.54904923],\n",
              "       [0.79161123],\n",
              "       [0.23560851],\n",
              "       [0.14687144],\n",
              "       [0.4149208 ],\n",
              "       [0.51238243],\n",
              "       [0.03825276],\n",
              "       [0.02065161],\n",
              "       [0.38602088],\n",
              "       [0.54250534],\n",
              "       [0.64248345],\n",
              "       [0.15311464],\n",
              "       [0.33185495],\n",
              "       [0.7290712 ],\n",
              "       [0.4031355 ],\n",
              "       [0.28645682],\n",
              "       [0.22339992]])"
            ]
          },
          "metadata": {},
          "execution_count": 17
        }
      ],
      "source": [
        "# calculate cosine similarity within that cluster\n",
        "from sklearn.metrics.pairwise import cosine_similarity\n",
        "from sklearn.metrics.pairwise import euclidean_distances\n",
        "simscore = cosine_similarity\n",
        "similarity = simscore(red_input, sim_subset).T #input\n",
        "similarity"
      ]
    },
    {
      "cell_type": "code",
      "execution_count": 18,
      "metadata": {
        "colab": {
          "base_uri": "https://localhost:8080/"
        },
        "id": "QatbcFxhnCGK",
        "outputId": "26d90fb9-c830-43f4-9691-347c12674a51"
      },
      "outputs": [
        {
          "output_type": "stream",
          "name": "stderr",
          "text": [
            "<ipython-input-18-bbfe0a642cef>:2: SettingWithCopyWarning: \n",
            "A value is trying to be set on a copy of a slice from a DataFrame.\n",
            "Try using .loc[row_indexer,col_indexer] = value instead\n",
            "\n",
            "See the caveats in the documentation: https://pandas.pydata.org/pandas-docs/stable/user_guide/indexing.html#returning-a-view-versus-a-copy\n",
            "  subset['similarity'] = similarity\n"
          ]
        }
      ],
      "source": [
        "# append similarity to dataframe\n",
        "subset['similarity'] = similarity"
      ]
    },
    {
      "cell_type": "code",
      "source": [
        "subset.loc[df_match['language'] == lang_input, 'similarity']+=1 # prioritize same language"
      ],
      "metadata": {
        "id": "VA4KtxC_g0vN"
      },
      "execution_count": 19,
      "outputs": []
    },
    {
      "cell_type": "code",
      "execution_count": 20,
      "metadata": {
        "colab": {
          "base_uri": "https://localhost:8080/",
          "height": 289
        },
        "id": "p-fv6wn4qUD_",
        "outputId": "8834bf86-74e0-4f2f-95b8-db75e57d52c5"
      },
      "outputs": [
        {
          "output_type": "execute_result",
          "data": {
            "text/plain": [
              "                                                  title subjects  \\\n",
              "1183   A String of Pearls: Caribbean Travels and Beyond      NaN   \n",
              "1280  Adult education in the Caribbean at the turn o...      NaN   \n",
              "879                                     Caribbean Flame  Romance   \n",
              "1449                                  The Caribbean Raj      NaN   \n",
              "3730                                   Caribbean Dreams      NaN   \n",
              "\n",
              "                          publisher  \\\n",
              "1183             Olympia Publishers   \n",
              "1280                         UNESCO   \n",
              "879              Constable Robinson   \n",
              "1449  Ian Randle Publishers,Jamaica   \n",
              "3730                          UNKNO   \n",
              "\n",
              "                                               synopsis language  label  \\\n",
              "1183  Product Description<br/><br/><br/>Meet the Car...       en     22   \n",
              "1280  <p>Burnout is common among doctors in the West...       en     22   \n",
              "879   Damon Alexander cannot resist Ramona King, alt...       en     22   \n",
              "1449  This book is a collection of poetry. It brings...       en     22   \n",
              "3730  Review      \". . . a vastly entertaining work ...       en     22   \n",
              "\n",
              "      similarity  \n",
              "1183    1.867137  \n",
              "1280    1.858134  \n",
              "879     1.855795  \n",
              "1449    1.852264  \n",
              "3730    1.839313  "
            ],
            "text/html": [
              "\n",
              "  <div id=\"df-4548a7fb-4cce-4cae-a82b-6110458b6cd1\" class=\"colab-df-container\">\n",
              "    <div>\n",
              "<style scoped>\n",
              "    .dataframe tbody tr th:only-of-type {\n",
              "        vertical-align: middle;\n",
              "    }\n",
              "\n",
              "    .dataframe tbody tr th {\n",
              "        vertical-align: top;\n",
              "    }\n",
              "\n",
              "    .dataframe thead th {\n",
              "        text-align: right;\n",
              "    }\n",
              "</style>\n",
              "<table border=\"1\" class=\"dataframe\">\n",
              "  <thead>\n",
              "    <tr style=\"text-align: right;\">\n",
              "      <th></th>\n",
              "      <th>title</th>\n",
              "      <th>subjects</th>\n",
              "      <th>publisher</th>\n",
              "      <th>synopsis</th>\n",
              "      <th>language</th>\n",
              "      <th>label</th>\n",
              "      <th>similarity</th>\n",
              "    </tr>\n",
              "  </thead>\n",
              "  <tbody>\n",
              "    <tr>\n",
              "      <th>1183</th>\n",
              "      <td>A String of Pearls: Caribbean Travels and Beyond</td>\n",
              "      <td>NaN</td>\n",
              "      <td>Olympia Publishers</td>\n",
              "      <td>Product Description&lt;br/&gt;&lt;br/&gt;&lt;br/&gt;Meet the Car...</td>\n",
              "      <td>en</td>\n",
              "      <td>22</td>\n",
              "      <td>1.867137</td>\n",
              "    </tr>\n",
              "    <tr>\n",
              "      <th>1280</th>\n",
              "      <td>Adult education in the Caribbean at the turn o...</td>\n",
              "      <td>NaN</td>\n",
              "      <td>UNESCO</td>\n",
              "      <td>&lt;p&gt;Burnout is common among doctors in the West...</td>\n",
              "      <td>en</td>\n",
              "      <td>22</td>\n",
              "      <td>1.858134</td>\n",
              "    </tr>\n",
              "    <tr>\n",
              "      <th>879</th>\n",
              "      <td>Caribbean Flame</td>\n",
              "      <td>Romance</td>\n",
              "      <td>Constable Robinson</td>\n",
              "      <td>Damon Alexander cannot resist Ramona King, alt...</td>\n",
              "      <td>en</td>\n",
              "      <td>22</td>\n",
              "      <td>1.855795</td>\n",
              "    </tr>\n",
              "    <tr>\n",
              "      <th>1449</th>\n",
              "      <td>The Caribbean Raj</td>\n",
              "      <td>NaN</td>\n",
              "      <td>Ian Randle Publishers,Jamaica</td>\n",
              "      <td>This book is a collection of poetry. It brings...</td>\n",
              "      <td>en</td>\n",
              "      <td>22</td>\n",
              "      <td>1.852264</td>\n",
              "    </tr>\n",
              "    <tr>\n",
              "      <th>3730</th>\n",
              "      <td>Caribbean Dreams</td>\n",
              "      <td>NaN</td>\n",
              "      <td>UNKNO</td>\n",
              "      <td>Review      \". . . a vastly entertaining work ...</td>\n",
              "      <td>en</td>\n",
              "      <td>22</td>\n",
              "      <td>1.839313</td>\n",
              "    </tr>\n",
              "  </tbody>\n",
              "</table>\n",
              "</div>\n",
              "    <div class=\"colab-df-buttons\">\n",
              "\n",
              "  <div class=\"colab-df-container\">\n",
              "    <button class=\"colab-df-convert\" onclick=\"convertToInteractive('df-4548a7fb-4cce-4cae-a82b-6110458b6cd1')\"\n",
              "            title=\"Convert this dataframe to an interactive table.\"\n",
              "            style=\"display:none;\">\n",
              "\n",
              "  <svg xmlns=\"http://www.w3.org/2000/svg\" height=\"24px\" viewBox=\"0 -960 960 960\">\n",
              "    <path d=\"M120-120v-720h720v720H120Zm60-500h600v-160H180v160Zm220 220h160v-160H400v160Zm0 220h160v-160H400v160ZM180-400h160v-160H180v160Zm440 0h160v-160H620v160ZM180-180h160v-160H180v160Zm440 0h160v-160H620v160Z\"/>\n",
              "  </svg>\n",
              "    </button>\n",
              "\n",
              "  <style>\n",
              "    .colab-df-container {\n",
              "      display:flex;\n",
              "      gap: 12px;\n",
              "    }\n",
              "\n",
              "    .colab-df-convert {\n",
              "      background-color: #E8F0FE;\n",
              "      border: none;\n",
              "      border-radius: 50%;\n",
              "      cursor: pointer;\n",
              "      display: none;\n",
              "      fill: #1967D2;\n",
              "      height: 32px;\n",
              "      padding: 0 0 0 0;\n",
              "      width: 32px;\n",
              "    }\n",
              "\n",
              "    .colab-df-convert:hover {\n",
              "      background-color: #E2EBFA;\n",
              "      box-shadow: 0px 1px 2px rgba(60, 64, 67, 0.3), 0px 1px 3px 1px rgba(60, 64, 67, 0.15);\n",
              "      fill: #174EA6;\n",
              "    }\n",
              "\n",
              "    .colab-df-buttons div {\n",
              "      margin-bottom: 4px;\n",
              "    }\n",
              "\n",
              "    [theme=dark] .colab-df-convert {\n",
              "      background-color: #3B4455;\n",
              "      fill: #D2E3FC;\n",
              "    }\n",
              "\n",
              "    [theme=dark] .colab-df-convert:hover {\n",
              "      background-color: #434B5C;\n",
              "      box-shadow: 0px 1px 3px 1px rgba(0, 0, 0, 0.15);\n",
              "      filter: drop-shadow(0px 1px 2px rgba(0, 0, 0, 0.3));\n",
              "      fill: #FFFFFF;\n",
              "    }\n",
              "  </style>\n",
              "\n",
              "    <script>\n",
              "      const buttonEl =\n",
              "        document.querySelector('#df-4548a7fb-4cce-4cae-a82b-6110458b6cd1 button.colab-df-convert');\n",
              "      buttonEl.style.display =\n",
              "        google.colab.kernel.accessAllowed ? 'block' : 'none';\n",
              "\n",
              "      async function convertToInteractive(key) {\n",
              "        const element = document.querySelector('#df-4548a7fb-4cce-4cae-a82b-6110458b6cd1');\n",
              "        const dataTable =\n",
              "          await google.colab.kernel.invokeFunction('convertToInteractive',\n",
              "                                                    [key], {});\n",
              "        if (!dataTable) return;\n",
              "\n",
              "        const docLinkHtml = 'Like what you see? Visit the ' +\n",
              "          '<a target=\"_blank\" href=https://colab.research.google.com/notebooks/data_table.ipynb>data table notebook</a>'\n",
              "          + ' to learn more about interactive tables.';\n",
              "        element.innerHTML = '';\n",
              "        dataTable['output_type'] = 'display_data';\n",
              "        await google.colab.output.renderOutput(dataTable, element);\n",
              "        const docLink = document.createElement('div');\n",
              "        docLink.innerHTML = docLinkHtml;\n",
              "        element.appendChild(docLink);\n",
              "      }\n",
              "    </script>\n",
              "  </div>\n",
              "\n",
              "\n",
              "<div id=\"df-9e0c0258-d353-41bf-bc84-cf72369b0e61\">\n",
              "  <button class=\"colab-df-quickchart\" onclick=\"quickchart('df-9e0c0258-d353-41bf-bc84-cf72369b0e61')\"\n",
              "            title=\"Suggest charts\"\n",
              "            style=\"display:none;\">\n",
              "\n",
              "<svg xmlns=\"http://www.w3.org/2000/svg\" height=\"24px\"viewBox=\"0 0 24 24\"\n",
              "     width=\"24px\">\n",
              "    <g>\n",
              "        <path d=\"M19 3H5c-1.1 0-2 .9-2 2v14c0 1.1.9 2 2 2h14c1.1 0 2-.9 2-2V5c0-1.1-.9-2-2-2zM9 17H7v-7h2v7zm4 0h-2V7h2v10zm4 0h-2v-4h2v4z\"/>\n",
              "    </g>\n",
              "</svg>\n",
              "  </button>\n",
              "\n",
              "<style>\n",
              "  .colab-df-quickchart {\n",
              "      --bg-color: #E8F0FE;\n",
              "      --fill-color: #1967D2;\n",
              "      --hover-bg-color: #E2EBFA;\n",
              "      --hover-fill-color: #174EA6;\n",
              "      --disabled-fill-color: #AAA;\n",
              "      --disabled-bg-color: #DDD;\n",
              "  }\n",
              "\n",
              "  [theme=dark] .colab-df-quickchart {\n",
              "      --bg-color: #3B4455;\n",
              "      --fill-color: #D2E3FC;\n",
              "      --hover-bg-color: #434B5C;\n",
              "      --hover-fill-color: #FFFFFF;\n",
              "      --disabled-bg-color: #3B4455;\n",
              "      --disabled-fill-color: #666;\n",
              "  }\n",
              "\n",
              "  .colab-df-quickchart {\n",
              "    background-color: var(--bg-color);\n",
              "    border: none;\n",
              "    border-radius: 50%;\n",
              "    cursor: pointer;\n",
              "    display: none;\n",
              "    fill: var(--fill-color);\n",
              "    height: 32px;\n",
              "    padding: 0;\n",
              "    width: 32px;\n",
              "  }\n",
              "\n",
              "  .colab-df-quickchart:hover {\n",
              "    background-color: var(--hover-bg-color);\n",
              "    box-shadow: 0 1px 2px rgba(60, 64, 67, 0.3), 0 1px 3px 1px rgba(60, 64, 67, 0.15);\n",
              "    fill: var(--button-hover-fill-color);\n",
              "  }\n",
              "\n",
              "  .colab-df-quickchart-complete:disabled,\n",
              "  .colab-df-quickchart-complete:disabled:hover {\n",
              "    background-color: var(--disabled-bg-color);\n",
              "    fill: var(--disabled-fill-color);\n",
              "    box-shadow: none;\n",
              "  }\n",
              "\n",
              "  .colab-df-spinner {\n",
              "    border: 2px solid var(--fill-color);\n",
              "    border-color: transparent;\n",
              "    border-bottom-color: var(--fill-color);\n",
              "    animation:\n",
              "      spin 1s steps(1) infinite;\n",
              "  }\n",
              "\n",
              "  @keyframes spin {\n",
              "    0% {\n",
              "      border-color: transparent;\n",
              "      border-bottom-color: var(--fill-color);\n",
              "      border-left-color: var(--fill-color);\n",
              "    }\n",
              "    20% {\n",
              "      border-color: transparent;\n",
              "      border-left-color: var(--fill-color);\n",
              "      border-top-color: var(--fill-color);\n",
              "    }\n",
              "    30% {\n",
              "      border-color: transparent;\n",
              "      border-left-color: var(--fill-color);\n",
              "      border-top-color: var(--fill-color);\n",
              "      border-right-color: var(--fill-color);\n",
              "    }\n",
              "    40% {\n",
              "      border-color: transparent;\n",
              "      border-right-color: var(--fill-color);\n",
              "      border-top-color: var(--fill-color);\n",
              "    }\n",
              "    60% {\n",
              "      border-color: transparent;\n",
              "      border-right-color: var(--fill-color);\n",
              "    }\n",
              "    80% {\n",
              "      border-color: transparent;\n",
              "      border-right-color: var(--fill-color);\n",
              "      border-bottom-color: var(--fill-color);\n",
              "    }\n",
              "    90% {\n",
              "      border-color: transparent;\n",
              "      border-bottom-color: var(--fill-color);\n",
              "    }\n",
              "  }\n",
              "</style>\n",
              "\n",
              "  <script>\n",
              "    async function quickchart(key) {\n",
              "      const quickchartButtonEl =\n",
              "        document.querySelector('#' + key + ' button');\n",
              "      quickchartButtonEl.disabled = true;  // To prevent multiple clicks.\n",
              "      quickchartButtonEl.classList.add('colab-df-spinner');\n",
              "      try {\n",
              "        const charts = await google.colab.kernel.invokeFunction(\n",
              "            'suggestCharts', [key], {});\n",
              "      } catch (error) {\n",
              "        console.error('Error during call to suggestCharts:', error);\n",
              "      }\n",
              "      quickchartButtonEl.classList.remove('colab-df-spinner');\n",
              "      quickchartButtonEl.classList.add('colab-df-quickchart-complete');\n",
              "    }\n",
              "    (() => {\n",
              "      let quickchartButtonEl =\n",
              "        document.querySelector('#df-9e0c0258-d353-41bf-bc84-cf72369b0e61 button');\n",
              "      quickchartButtonEl.style.display =\n",
              "        google.colab.kernel.accessAllowed ? 'block' : 'none';\n",
              "    })();\n",
              "  </script>\n",
              "</div>\n",
              "\n",
              "  <div id=\"id_3b8bb8d0-e260-4a6d-89a6-c90e32677804\">\n",
              "    <style>\n",
              "      .colab-df-generate {\n",
              "        background-color: #E8F0FE;\n",
              "        border: none;\n",
              "        border-radius: 50%;\n",
              "        cursor: pointer;\n",
              "        display: none;\n",
              "        fill: #1967D2;\n",
              "        height: 32px;\n",
              "        padding: 0 0 0 0;\n",
              "        width: 32px;\n",
              "      }\n",
              "\n",
              "      .colab-df-generate:hover {\n",
              "        background-color: #E2EBFA;\n",
              "        box-shadow: 0px 1px 2px rgba(60, 64, 67, 0.3), 0px 1px 3px 1px rgba(60, 64, 67, 0.15);\n",
              "        fill: #174EA6;\n",
              "      }\n",
              "\n",
              "      [theme=dark] .colab-df-generate {\n",
              "        background-color: #3B4455;\n",
              "        fill: #D2E3FC;\n",
              "      }\n",
              "\n",
              "      [theme=dark] .colab-df-generate:hover {\n",
              "        background-color: #434B5C;\n",
              "        box-shadow: 0px 1px 3px 1px rgba(0, 0, 0, 0.15);\n",
              "        filter: drop-shadow(0px 1px 2px rgba(0, 0, 0, 0.3));\n",
              "        fill: #FFFFFF;\n",
              "      }\n",
              "    </style>\n",
              "    <button class=\"colab-df-generate\" onclick=\"generateWithVariable('top_subset')\"\n",
              "            title=\"Generate code using this dataframe.\"\n",
              "            style=\"display:none;\">\n",
              "\n",
              "  <svg xmlns=\"http://www.w3.org/2000/svg\" height=\"24px\"viewBox=\"0 0 24 24\"\n",
              "       width=\"24px\">\n",
              "    <path d=\"M7,19H8.4L18.45,9,17,7.55,7,17.6ZM5,21V16.75L18.45,3.32a2,2,0,0,1,2.83,0l1.4,1.43a1.91,1.91,0,0,1,.58,1.4,1.91,1.91,0,0,1-.58,1.4L9.25,21ZM18.45,9,17,7.55Zm-12,3A5.31,5.31,0,0,0,4.9,8.1,5.31,5.31,0,0,0,1,6.5,5.31,5.31,0,0,0,4.9,4.9,5.31,5.31,0,0,0,6.5,1,5.31,5.31,0,0,0,8.1,4.9,5.31,5.31,0,0,0,12,6.5,5.46,5.46,0,0,0,6.5,12Z\"/>\n",
              "  </svg>\n",
              "    </button>\n",
              "    <script>\n",
              "      (() => {\n",
              "      const buttonEl =\n",
              "        document.querySelector('#id_3b8bb8d0-e260-4a6d-89a6-c90e32677804 button.colab-df-generate');\n",
              "      buttonEl.style.display =\n",
              "        google.colab.kernel.accessAllowed ? 'block' : 'none';\n",
              "\n",
              "      buttonEl.onclick = () => {\n",
              "        google.colab.notebook.generateWithVariable('top_subset');\n",
              "      }\n",
              "      })();\n",
              "    </script>\n",
              "  </div>\n",
              "\n",
              "    </div>\n",
              "  </div>\n"
            ],
            "application/vnd.google.colaboratory.intrinsic+json": {
              "type": "dataframe",
              "variable_name": "top_subset",
              "summary": "{\n  \"name\": \"top_subset\",\n  \"rows\": 5,\n  \"fields\": [\n    {\n      \"column\": \"title\",\n      \"properties\": {\n        \"dtype\": \"string\",\n        \"num_unique_values\": 5,\n        \"samples\": [\n          \"Adult education in the Caribbean at the turn of the century\",\n          \"Caribbean Dreams\",\n          \"Caribbean Flame\"\n        ],\n        \"semantic_type\": \"\",\n        \"description\": \"\"\n      }\n    },\n    {\n      \"column\": \"subjects\",\n      \"properties\": {\n        \"dtype\": \"category\",\n        \"num_unique_values\": 1,\n        \"samples\": [\n          \"Romance\"\n        ],\n        \"semantic_type\": \"\",\n        \"description\": \"\"\n      }\n    },\n    {\n      \"column\": \"publisher\",\n      \"properties\": {\n        \"dtype\": \"string\",\n        \"num_unique_values\": 5,\n        \"samples\": [\n          \"UNESCO\"\n        ],\n        \"semantic_type\": \"\",\n        \"description\": \"\"\n      }\n    },\n    {\n      \"column\": \"synopsis\",\n      \"properties\": {\n        \"dtype\": \"string\",\n        \"num_unique_values\": 5,\n        \"samples\": [\n          \"<p>Burnout is common among doctors in the West, so one might assume that a medical career in Malawi, one of the poorest countries in the world, would place far greater strain on the idealism that drives many doctors. But, as A Heart for the Work makes clear, Malawian medical students learn to confront poverty creatively, experiencing fatigue and frustration but also joy and commitment on their way to becoming physicians. The first ethnography of medical training in the global South, Claire L. Wendland's book is a moving and perceptive look at medicine in a world where the transnational movement of people and ideas creates both devastation and possibility.Wendland, a physician anthropologist, conducted extensive interviews and worked in wards, clinics, and operating theaters alongside the student doctors whose stories she relates. From the relative calm of Malawi's College of Medicine to the turbulence of training at hospitals with gravely ill patients and dramatically inadequate supplies, staff, and technology, Wendland's work reveals the way these young doctors engage the contradictions of their circumstances, shedding new light on debates about the effects of medical training, the impact of traditional healing, and the purposes of medicine.<br></p>\"\n        ],\n        \"semantic_type\": \"\",\n        \"description\": \"\"\n      }\n    },\n    {\n      \"column\": \"language\",\n      \"properties\": {\n        \"dtype\": \"category\",\n        \"num_unique_values\": 1,\n        \"samples\": [\n          \"en\"\n        ],\n        \"semantic_type\": \"\",\n        \"description\": \"\"\n      }\n    },\n    {\n      \"column\": \"label\",\n      \"properties\": {\n        \"dtype\": \"number\",\n        \"std\": 0,\n        \"min\": 22,\n        \"max\": 22,\n        \"num_unique_values\": 1,\n        \"samples\": [\n          22\n        ],\n        \"semantic_type\": \"\",\n        \"description\": \"\"\n      }\n    },\n    {\n      \"column\": \"similarity\",\n      \"properties\": {\n        \"dtype\": \"number\",\n        \"std\": 0.010126815561829913,\n        \"min\": 1.8393132001835089,\n        \"max\": 1.8671368063038007,\n        \"num_unique_values\": 5,\n        \"samples\": [\n          1.858134248017345\n        ],\n        \"semantic_type\": \"\",\n        \"description\": \"\"\n      }\n    }\n  ]\n}"
            }
          },
          "metadata": {},
          "execution_count": 20
        }
      ],
      "source": [
        "# top 5 similar\n",
        "top_subset = subset.sort_values(by='similarity', ascending=False).head(5)\n",
        "top_subset"
      ]
    },
    {
      "cell_type": "code",
      "execution_count": 21,
      "metadata": {
        "colab": {
          "base_uri": "https://localhost:8080/"
        },
        "id": "Is7K195eDdqc",
        "outputId": "df452372-4be5-499e-8686-355fa96ea9ee"
      },
      "outputs": [
        {
          "output_type": "execute_result",
          "data": {
            "text/plain": [
              "Index([1183, 1280, 879, 1449, 3730], dtype='int64')"
            ]
          },
          "metadata": {},
          "execution_count": 21
        }
      ],
      "source": [
        "top_index = top_subset.index\n",
        "top_index"
      ]
    },
    {
      "cell_type": "code",
      "execution_count": 22,
      "metadata": {
        "id": "P3R0xXWvGyXB"
      },
      "outputs": [],
      "source": [
        "# get information of top 5\n",
        "top_titles = []\n",
        "top_subjects = []\n",
        "top_synopsis = []\n",
        "top_publishers = []\n",
        "top_languages = []"
      ]
    },
    {
      "cell_type": "code",
      "execution_count": 23,
      "metadata": {
        "id": "2diRGjdHCK6a"
      },
      "outputs": [],
      "source": [
        "def book_info(index):\n",
        "  title = df_match.loc[index]['title']\n",
        "  subjects = df_match.loc[index]['subjects']\n",
        "  synopsis = df_match.loc[index]['synopsis']\n",
        "  publisher = df_match.loc[index]['publisher']\n",
        "  language = df_match.loc[index]['language']\n",
        "  return title, subjects, synopsis, publisher, language"
      ]
    },
    {
      "cell_type": "code",
      "execution_count": 24,
      "metadata": {
        "colab": {
          "base_uri": "https://localhost:8080/"
        },
        "id": "_nEtGXF0EmWd",
        "outputId": "90f78d66-00fa-4dc7-fdc5-d735bb04ff30"
      },
      "outputs": [
        {
          "output_type": "stream",
          "name": "stdout",
          "text": [
            "A String of Pearls: Caribbean Travels and Beyond\n",
            "Adult education in the Caribbean at the turn of the century\n",
            "Caribbean Flame\n",
            "The Caribbean Raj\n",
            "Caribbean Dreams\n"
          ]
        }
      ],
      "source": [
        "for i in range(len(top_index)):\n",
        "  top_titles.append(book_info(top_index[i])[0])\n",
        "  top_subjects.append(book_info(top_index[i])[1])\n",
        "  top_synopsis.append(book_info(top_index[i])[2])\n",
        "  top_publishers.append(book_info(top_index[i])[3])\n",
        "  top_languages.append(book_info(top_index[i])[4])\n",
        "  print(book_info(top_index[i])[0])"
      ]
    },
    {
      "cell_type": "code",
      "execution_count": 25,
      "metadata": {
        "id": "ze_dWX33rcyP",
        "colab": {
          "base_uri": "https://localhost:8080/"
        },
        "outputId": "00ef4401-d84a-46e7-d4a6-7c9fef0794b8"
      },
      "outputs": [
        {
          "output_type": "stream",
          "name": "stdout",
          "text": [
            "Collecting groq\n",
            "  Downloading groq-0.12.0-py3-none-any.whl.metadata (13 kB)\n",
            "Requirement already satisfied: anyio<5,>=3.5.0 in /usr/local/lib/python3.10/dist-packages (from groq) (3.7.1)\n",
            "Requirement already satisfied: distro<2,>=1.7.0 in /usr/local/lib/python3.10/dist-packages (from groq) (1.9.0)\n",
            "Requirement already satisfied: httpx<1,>=0.23.0 in /usr/local/lib/python3.10/dist-packages (from groq) (0.27.2)\n",
            "Requirement already satisfied: pydantic<3,>=1.9.0 in /usr/local/lib/python3.10/dist-packages (from groq) (2.9.2)\n",
            "Requirement already satisfied: sniffio in /usr/local/lib/python3.10/dist-packages (from groq) (1.3.1)\n",
            "Requirement already satisfied: typing-extensions<5,>=4.7 in /usr/local/lib/python3.10/dist-packages (from groq) (4.12.2)\n",
            "Requirement already satisfied: idna>=2.8 in /usr/local/lib/python3.10/dist-packages (from anyio<5,>=3.5.0->groq) (3.10)\n",
            "Requirement already satisfied: exceptiongroup in /usr/local/lib/python3.10/dist-packages (from anyio<5,>=3.5.0->groq) (1.2.2)\n",
            "Requirement already satisfied: certifi in /usr/local/lib/python3.10/dist-packages (from httpx<1,>=0.23.0->groq) (2024.8.30)\n",
            "Requirement already satisfied: httpcore==1.* in /usr/local/lib/python3.10/dist-packages (from httpx<1,>=0.23.0->groq) (1.0.7)\n",
            "Requirement already satisfied: h11<0.15,>=0.13 in /usr/local/lib/python3.10/dist-packages (from httpcore==1.*->httpx<1,>=0.23.0->groq) (0.14.0)\n",
            "Requirement already satisfied: annotated-types>=0.6.0 in /usr/local/lib/python3.10/dist-packages (from pydantic<3,>=1.9.0->groq) (0.7.0)\n",
            "Requirement already satisfied: pydantic-core==2.23.4 in /usr/local/lib/python3.10/dist-packages (from pydantic<3,>=1.9.0->groq) (2.23.4)\n",
            "Downloading groq-0.12.0-py3-none-any.whl (108 kB)\n",
            "\u001b[?25l   \u001b[90m━━━━━━━━━━━━━━━━━━━━━━━━━━━━━━━━━━━━━━━━\u001b[0m \u001b[32m0.0/108.9 kB\u001b[0m \u001b[31m?\u001b[0m eta \u001b[36m-:--:--\u001b[0m\r\u001b[2K   \u001b[90m━━━━━━━━━━━━━━━━━━━━━━━━━━━━━━━━━━━━━━━━\u001b[0m \u001b[32m108.9/108.9 kB\u001b[0m \u001b[31m3.0 MB/s\u001b[0m eta \u001b[36m0:00:00\u001b[0m\n",
            "\u001b[?25hInstalling collected packages: groq\n",
            "Successfully installed groq-0.12.0\n"
          ]
        }
      ],
      "source": [
        "# GROQ API to prompt LLAMA\n",
        "!pip install groq"
      ]
    },
    {
      "cell_type": "code",
      "execution_count": 26,
      "metadata": {
        "id": "uOYrK20e9tdi",
        "colab": {
          "base_uri": "https://localhost:8080/"
        },
        "outputId": "23b713b5-aa33-4490-efde-c656fda4b987"
      },
      "outputs": [
        {
          "output_type": "stream",
          "name": "stdout",
          "text": [
            "env: GROQ_API_KEY=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\n"
          ]
        }
      ],
      "source": [
        "%env GROQ_API_KEY=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"
      ]
    },
    {
      "cell_type": "code",
      "execution_count": 27,
      "metadata": {
        "id": "fXvDwwnF-TXB"
      },
      "outputs": [],
      "source": [
        "from groq import Groq"
      ]
    },
    {
      "cell_type": "code",
      "execution_count": 28,
      "metadata": {
        "id": "F3coYgP4-oTR"
      },
      "outputs": [],
      "source": [
        "client = Groq(\n",
        "    api_key=os.environ.get(\"GROQ_API_KEY\"),\n",
        ")"
      ]
    },
    {
      "cell_type": "code",
      "execution_count": 29,
      "metadata": {
        "id": "OGJhOfak-UfJ"
      },
      "outputs": [],
      "source": [
        "chat_completion = client.chat.completions.create(\n",
        "    #\n",
        "    # Required parameters\n",
        "    #\n",
        "    messages=[\n",
        "        # Set an optional system message. This sets the behavior of the\n",
        "        # assistant and can be used to provide specific instructions for\n",
        "        # how it should behave throughout the conversation.\n",
        "        {\n",
        "            \"role\": \"system\",\n",
        "            \"content\": f\"You are a knowledgable and straightforward assistant with experience in literature and literary analysis, and knowledge of the publishing industry. You are explaining to authors which books are most similar to theirs using criteria such as themes, plot, character, setting, and tone. Your responses are concise and academic, strictly providing lists and explanations. Structure the response in a list, where each entry is formatted, with elaboration as necessary. (Do not mention the books' alphabetical labels A B C D E) : \\n (Rank number). (Publisher) \\n Published in (Language)\\n Explanation: (Publisher) published (Title), a (Subject) book that is similar to your book because (Explanation, 3 sentence justification of the book similarities). Therefore, your book appeals to (Publisher)'s sector of the market.\"\n",
        "        },\n",
        "        # Set a user message for the assistant to respond to.\n",
        "        {\n",
        "            \"role\": \"user\",\n",
        "            \"content\": f\"Using the input book information as a reference, compare and rank the similarity of books A, B, C, D, and E to the reference. Use literary analysis to evaluate each book based on thematic alignment, such as central conflict, character focus, and setting, and stylistic features such as narrative tone and diction. \\n Provide a list of the respective publishers of the books in descending order of book similarity to the reference book with a 3 sentence justification of the book similarities and ranking, citing specific aspects of the book information and synopsis that supports your assessment. Structure the response in a list, where each entry is formatted, with elaboration as necessary. (Do not mention the books' alphabetical labels A B C D E) : \\n (Rank number). (Publisher) \\n Published in (Language)\\n Explanation: (Publisher) published (Title), a (Subject) book that is similar to your book because (Explanation, 3 sentence justification of the book similarities). Therefore, your book appeals to (Publisher)'s sector of the market. \\n \\n Book Reference: \\n Title: {title_input}. \\n Subject: {subject_input} \\n Synopsis: {synopsis_input} \\n \\n Book A: \\n Title: {top_titles[0]} \\n Subject: {top_subjects[0]} \\n Synopsis: {top_synopsis[0]} \\n Publisher: {top_publishers[0]} \\n Language: {top_languages[0]} \\n \\n Book B: \\n Title: {top_titles[1]} \\n Subject: {top_subjects[1]} \\n Synopsis: {top_synopsis[1]} \\n Publisher: {top_publishers[1]} \\n Language: {top_languages[1]} \\n \\n Book C: \\n Title: {top_titles[2]} \\n Subject: {top_subjects[2]} \\n Synopsis: {top_synopsis[2]} \\n Publisher: {top_publishers[2]} \\n Language: {top_languages[2]} \\n \\n Book D: \\n Title: {top_titles[3]} \\n Subject: {top_subjects[3]} \\n Synopsis: {top_synopsis[3]} \\n Publisher: {top_publishers[3]} \\n Language: {top_languages[3]} \\n \\n Book E: \\n Title: {top_titles[4]} \\n Subject: {top_subjects[4]} \\n Synopsis: {top_synopsis[4]} \\n Publisher: {top_publishers[4]} \\n Language: {top_languages[4]}\"\n",
        "\n",
        "        }\n",
        "\n",
        "    ],\n",
        "\n",
        "    # The language model which will generate the completion.\n",
        "    model= \"llama3-70b-8192\",#\"llama3-70b-8192\", \"llama3-8b-8192\", \"llama-3.1-70b-versatile\", \"llama-3.1-8b-instant\"\n",
        "\n",
        "    #\n",
        "    # Optional parameters\n",
        "    #\n",
        "\n",
        "    # Controls randomness: lowering results in less random completions.\n",
        "    # As the temperature approaches zero, the model will become deterministic\n",
        "    # and repetitive.\n",
        "    temperature=0.3,\n",
        "\n",
        "    # The maximum number of tokens to generate. Requests can use up to\n",
        "    # 32,768 tokens shared between prompt and completion.\n",
        "    max_tokens=8000,\n",
        "\n",
        "    # Controls diversity via nucleus sampling: 0.5 means half of all\n",
        "    # likelihood-weighted options are considered.\n",
        "    top_p=1,\n",
        "\n",
        "    # A stop sequence is a predefined or user-specified text string that\n",
        "    # signals an AI to stop generating content, ensuring its responses\n",
        "    # remain focused and concise. Examples include punctuation marks and\n",
        "    # markers like \"[end]\".\n",
        "    stop=None,\n",
        "\n",
        "    # If set, partial message deltas will be sent.\n",
        "    stream=False,\n",
        ")"
      ]
    },
    {
      "cell_type": "code",
      "execution_count": 30,
      "metadata": {
        "id": "bvJbD0mQ-xEG"
      },
      "outputs": [],
      "source": [
        "# Print the completion returned by the LLM.\n",
        "output = chat_completion.choices[0].message.content"
      ]
    },
    {
      "cell_type": "code",
      "execution_count": 31,
      "metadata": {
        "id": "WlPREEKzTRVB"
      },
      "outputs": [],
      "source": [
        "output = GoogleTranslator(source='auto', target=lang_input).translate(output)"
      ]
    },
    {
      "cell_type": "code",
      "source": [
        "print(output)"
      ],
      "metadata": {
        "colab": {
          "base_uri": "https://localhost:8080/"
        },
        "id": "Nk3xxw66INL0",
        "outputId": "8696b024-662c-4492-e83f-659a0d9e2c06"
      },
      "execution_count": 32,
      "outputs": [
        {
          "output_type": "stream",
          "name": "stdout",
          "text": [
            "Here is the list of publishers in descending order of book similarity to the reference book \"Anansi\":\n",
            "\n",
            "1. Ian Randle Publishers, Jamaica\n",
            "Published in: en\n",
            "Explanation: Ian Randle Publishers published \"The Caribbean Raj\", a poetry collection book that is similar to \"Anansi\" because it explores the cultural heritage and identity of the Caribbean region, much like the Akan folklore character Anansi. The themes of colonialism, cultural identity, and the blending of cultures are common to both books. Therefore, your book appeals to Ian Randle Publishers' sector of the market.\n",
            "\n",
            "2. Olympia Publishers\n",
            "Published in: en\n",
            "Explanation: Olympia Publishers published \"A String of Pearls: Caribbean Travels and Beyond\", a travelogue book that is similar to \"Anansi\" because it explores the cultural diversity and richness of the Caribbean region. The book's focus on the author's personal experiences and encounters with local cultures mirrors Anansi's trickster role in navigating different cultural contexts. Therefore, your book appeals to Olympia Publishers' sector of the market.\n",
            "\n",
            "3. Constable Robinson\n",
            "Published in: en\n",
            "Explanation: Constable Robinson published \"Caribbean Flame\", a romance novel that is similar to \"Anansi\" because it is set in the Caribbean region and explores themes of passion, identity, and cultural heritage. The book's use of tropical settings and dramatic plot twists echoes Anansi's cunning and wit. Therefore, your book appeals to Constable Robinson's sector of the market.\n",
            "\n",
            "4. UNESCO\n",
            "Published in: en\n",
            "Explanation: UNESCO published \"Adult education in the Caribbean at the turn of the century\", an academic book that is similar to \"Anansi\" because it explores the cultural and educational context of the Caribbean region. The book's focus on medical education and training in Malawi mirrors Anansi's role as a trickster figure who navigates different cultural contexts. Therefore, your book appeals to UNESCO's sector of the market.\n",
            "\n",
            "5. UNKNO\n",
            "Published in: en\n",
            "Explanation: UNKNO published \"Caribbean Dreams\", a novel that is similar to \"Anansi\" because it is set in the Caribbean region and explores themes of politics, identity, and cultural heritage. However, the book's focus on a fictional island and a plot centered around a vintage car theft makes it less similar to \"Anansi\" than the other books on this list. Therefore, your book appeals less to UNKNO's sector of the market.\n"
          ]
        }
      ]
    }
  ],
  "metadata": {
    "colab": {
      "provenance": []
    },
    "kernelspec": {
      "display_name": "Python 3",
      "name": "python3"
    },
    "language_info": {
      "name": "python"
    }
  },
  "nbformat": 4,
  "nbformat_minor": 0
}